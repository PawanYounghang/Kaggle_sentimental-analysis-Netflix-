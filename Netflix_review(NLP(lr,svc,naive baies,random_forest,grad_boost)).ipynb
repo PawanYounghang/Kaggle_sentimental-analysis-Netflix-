{
 "cells": [
  {
   "cell_type": "code",
   "execution_count": 2,
   "id": "870bd9e4",
   "metadata": {},
   "outputs": [
    {
     "name": "stderr",
     "output_type": "stream",
     "text": [
      "[nltk_data] Downloading package stopwords to\n",
      "[nltk_data]     C:\\Users\\pawan\\AppData\\Roaming\\nltk_data...\n",
      "[nltk_data]   Package stopwords is already up-to-date!\n"
     ]
    }
   ],
   "source": [
    "#importing packages\n",
    "import numpy as np\n",
    "import pandas as pd\n",
    "import re,string\n",
    "import matplotlib.pyplot as plt\n",
    "from nltk.corpus import stopwords\n",
    "from nltk.stem import PorterStemmer\n",
    "from sklearn.feature_extraction.text import TfidfVectorizer\n",
    "from sklearn.pipeline import Pipeline\n",
    "from sklearn.metrics import classification_report, confusion_matrix\n",
    "from sklearn.model_selection import train_test_split\n",
    "from sklearn.feature_selection import SelectKBest, chi2\n",
    "import pickle as pk\n",
    "import nltk\n",
    "import seaborn as sns\n",
    "nltk.download('stopwords')\n",
    "%matplotlib inline"
   ]
  },
  {
   "cell_type": "code",
   "execution_count": 13,
   "id": "ca20cc47",
   "metadata": {},
   "outputs": [
    {
     "name": "stdout",
     "output_type": "stream",
     "text": [
      "<class 'pandas.core.frame.DataFrame'>\n",
      "Index: 108837 entries, 0 to 108837\n",
      "Data columns (total 4 columns):\n",
      " #   Column         Non-Null Count   Dtype \n",
      "---  ------         --------------   ----- \n",
      " 0   userName       108837 non-null  object\n",
      " 1   content        108837 non-null  object\n",
      " 2   score          108837 non-null  int64 \n",
      " 3   thumbsUpCount  108837 non-null  int64 \n",
      "dtypes: int64(2), object(2)\n",
      "memory usage: 4.2+ MB\n"
     ]
    }
   ],
   "source": [
    "df = pd.read_csv('netflix_reviews.csv', usecols = [\"userName\",\"content\",\"score\",\"thumbsUpCount\"])\n",
    "df = df.dropna()\n",
    "df.info()"
   ]
  },
  {
   "cell_type": "code",
   "execution_count": 17,
   "id": "ff838c31",
   "metadata": {},
   "outputs": [
    {
     "data": {
      "text/plain": [
       "<Axes: xlabel='score'>"
      ]
     },
     "execution_count": 17,
     "metadata": {},
     "output_type": "execute_result"
    },
    {
     "data": {
      "image/png": "[encoded data removed]",
      "text/plain": [
       "<Figure size 640x480 with 1 Axes>"
      ]
     },
     "metadata": {},
     "output_type": "display_data"
    }
   ],
   "source": [
    "df.groupby('score').size().plot.bar()"
   ]
  },
  {
   "cell_type": "code",
   "execution_count": 26,
   "id": "76ede0f8",
   "metadata": {},
   "outputs": [
    {
     "data": {
      "text/plain": [
       "thumbsUpCount\n",
       "0       74049\n",
       "1       14368\n",
       "2        5184\n",
       "3        2778\n",
       "4        1659\n",
       "        ...  \n",
       "1172        1\n",
       "542         1\n",
       "536         1\n",
       "459         1\n",
       "697         1\n",
       "Name: count, Length: 899, dtype: int64"
      ]
     },
     "execution_count": 26,
     "metadata": {},
     "output_type": "execute_result"
    }
   ],
   "source": [
    "# df.groupby('thumbsUpCount').size().plot.bar()\n",
    "\n",
    "df['thumbsUpCount'].value_counts()"
   ]
  },
  {
   "cell_type": "code",
   "execution_count": 30,
   "id": "2e3fb75c",
   "metadata": {},
   "outputs": [
    {
     "data": {
      "text/html": [
       "<div>\n",
       "<style scoped>\n",
       "    .dataframe tbody tr th:only-of-type {\n",
       "        vertical-align: middle;\n",
       "    }\n",
       "\n",
       "    .dataframe tbody tr th {\n",
       "        vertical-align: top;\n",
       "    }\n",
       "\n",
       "    .dataframe thead th {\n",
       "        text-align: right;\n",
       "    }\n",
       "</style>\n",
       "<table border=\"1\" class=\"dataframe\">\n",
       "  <thead>\n",
       "    <tr style=\"text-align: right;\">\n",
       "      <th></th>\n",
       "      <th>userName</th>\n",
       "      <th>content</th>\n",
       "      <th>score</th>\n",
       "      <th>thumbsUpCount</th>\n",
       "    </tr>\n",
       "  </thead>\n",
       "  <tbody>\n",
       "    <tr>\n",
       "      <th>96467</th>\n",
       "      <td>A Google user</td>\n",
       "      <td>over the last years i have not had a prob but ...</td>\n",
       "      <td>1</td>\n",
       "      <td>22</td>\n",
       "    </tr>\n",
       "    <tr>\n",
       "      <th>96882</th>\n",
       "      <td>LuLu Beans</td>\n",
       "      <td>Charging more for less</td>\n",
       "      <td>1</td>\n",
       "      <td>11</td>\n",
       "    </tr>\n",
       "    <tr>\n",
       "      <th>96945</th>\n",
       "      <td>Minhaj Syed</td>\n",
       "      <td>Awesome video Quality and Sound, great content...</td>\n",
       "      <td>5</td>\n",
       "      <td>15</td>\n",
       "    </tr>\n",
       "    <tr>\n",
       "      <th>97826</th>\n",
       "      <td>A Google user</td>\n",
       "      <td>I love the downloading option that way i can w...</td>\n",
       "      <td>5</td>\n",
       "      <td>48</td>\n",
       "    </tr>\n",
       "    <tr>\n",
       "      <th>98627</th>\n",
       "      <td>LJ G</td>\n",
       "      <td>Great shows, comedy, movies, etc. Updated alot.</td>\n",
       "      <td>5</td>\n",
       "      <td>88</td>\n",
       "    </tr>\n",
       "    <tr>\n",
       "      <th>98987</th>\n",
       "      <td>Drishti Chauhan</td>\n",
       "      <td>Amazing app interface with incomparable content.</td>\n",
       "      <td>5</td>\n",
       "      <td>12</td>\n",
       "    </tr>\n",
       "    <tr>\n",
       "      <th>99004</th>\n",
       "      <td>Tarun Kumar Patre</td>\n",
       "      <td>Give option to go 30sec back even on the mobil...</td>\n",
       "      <td>4</td>\n",
       "      <td>11</td>\n",
       "    </tr>\n",
       "    <tr>\n",
       "      <th>99353</th>\n",
       "      <td>A Google user</td>\n",
       "      <td>I honestly Love Netflix you can watch movies T...</td>\n",
       "      <td>5</td>\n",
       "      <td>55</td>\n",
       "    </tr>\n",
       "    <tr>\n",
       "      <th>99954</th>\n",
       "      <td>A Google user</td>\n",
       "      <td>Please add more episodes for young justice sea...</td>\n",
       "      <td>4</td>\n",
       "      <td>26</td>\n",
       "    </tr>\n",
       "    <tr>\n",
       "      <th>100180</th>\n",
       "      <td>A Google user</td>\n",
       "      <td>It needs to have more movies but it's on the r...</td>\n",
       "      <td>4</td>\n",
       "      <td>13</td>\n",
       "    </tr>\n",
       "    <tr>\n",
       "      <th>100267</th>\n",
       "      <td>A Google user</td>\n",
       "      <td>luv netflix it has good movies and my series t...</td>\n",
       "      <td>5</td>\n",
       "      <td>19</td>\n",
       "    </tr>\n",
       "    <tr>\n",
       "      <th>101381</th>\n",
       "      <td>Sita Vitel</td>\n",
       "      <td>Cancelled. As someone who lives off grid and d...</td>\n",
       "      <td>1</td>\n",
       "      <td>44</td>\n",
       "    </tr>\n",
       "    <tr>\n",
       "      <th>101520</th>\n",
       "      <td>A Google user</td>\n",
       "      <td>You should add the movienreelsteel robot boxin...</td>\n",
       "      <td>5</td>\n",
       "      <td>89</td>\n",
       "    </tr>\n",
       "    <tr>\n",
       "      <th>101776</th>\n",
       "      <td>fenil Kurwade</td>\n",
       "      <td>After update app not able to watch any series ...</td>\n",
       "      <td>1</td>\n",
       "      <td>27</td>\n",
       "    </tr>\n",
       "    <tr>\n",
       "      <th>102795</th>\n",
       "      <td>Arushee Aggarwal</td>\n",
       "      <td>The video keeps lagging in the mobile app. 👎</td>\n",
       "      <td>1</td>\n",
       "      <td>115</td>\n",
       "    </tr>\n",
       "    <tr>\n",
       "      <th>105424</th>\n",
       "      <td>Maleabu Mabitsa</td>\n",
       "      <td>It refuses to sign me in and so even after it ...</td>\n",
       "      <td>1</td>\n",
       "      <td>33</td>\n",
       "    </tr>\n",
       "    <tr>\n",
       "      <th>106779</th>\n",
       "      <td>Mike Bryan Seabrook</td>\n",
       "      <td>Ads poping up and redirecting me to suspicious...</td>\n",
       "      <td>1</td>\n",
       "      <td>45</td>\n",
       "    </tr>\n",
       "    <tr>\n",
       "      <th>107685</th>\n",
       "      <td>Janine M. B. D.</td>\n",
       "      <td>TV app ***needs*** a manual resolution setting...</td>\n",
       "      <td>3</td>\n",
       "      <td>11</td>\n",
       "    </tr>\n",
       "    <tr>\n",
       "      <th>108457</th>\n",
       "      <td>Rashmi G</td>\n",
       "      <td>Why no kannada movies???</td>\n",
       "      <td>1</td>\n",
       "      <td>14</td>\n",
       "    </tr>\n",
       "    <tr>\n",
       "      <th>108682</th>\n",
       "      <td>Tarun</td>\n",
       "      <td>Can you bring down the skip intro button to th...</td>\n",
       "      <td>4</td>\n",
       "      <td>25</td>\n",
       "    </tr>\n",
       "  </tbody>\n",
       "</table>\n",
       "</div>"
      ],
      "text/plain": [
       "                   userName  \\\n",
       "96467         A Google user   \n",
       "96882            LuLu Beans   \n",
       "96945           Minhaj Syed   \n",
       "97826         A Google user   \n",
       "98627                  LJ G   \n",
       "98987       Drishti Chauhan   \n",
       "99004     Tarun Kumar Patre   \n",
       "99353         A Google user   \n",
       "99954         A Google user   \n",
       "100180        A Google user   \n",
       "100267        A Google user   \n",
       "101381           Sita Vitel   \n",
       "101520        A Google user   \n",
       "101776        fenil Kurwade   \n",
       "102795     Arushee Aggarwal   \n",
       "105424      Maleabu Mabitsa   \n",
       "106779  Mike Bryan Seabrook   \n",
       "107685      Janine M. B. D.   \n",
       "108457             Rashmi G   \n",
       "108682                Tarun   \n",
       "\n",
       "                                                  content  score  \\\n",
       "96467   over the last years i have not had a prob but ...      1   \n",
       "96882                              Charging more for less      1   \n",
       "96945   Awesome video Quality and Sound, great content...      5   \n",
       "97826   I love the downloading option that way i can w...      5   \n",
       "98627     Great shows, comedy, movies, etc. Updated alot.      5   \n",
       "98987    Amazing app interface with incomparable content.      5   \n",
       "99004   Give option to go 30sec back even on the mobil...      4   \n",
       "99353   I honestly Love Netflix you can watch movies T...      5   \n",
       "99954   Please add more episodes for young justice sea...      4   \n",
       "100180  It needs to have more movies but it's on the r...      4   \n",
       "100267  luv netflix it has good movies and my series t...      5   \n",
       "101381  Cancelled. As someone who lives off grid and d...      1   \n",
       "101520  You should add the movienreelsteel robot boxin...      5   \n",
       "101776  After update app not able to watch any series ...      1   \n",
       "102795       The video keeps lagging in the mobile app. 👎      1   \n",
       "105424  It refuses to sign me in and so even after it ...      1   \n",
       "106779  Ads poping up and redirecting me to suspicious...      1   \n",
       "107685  TV app ***needs*** a manual resolution setting...      3   \n",
       "108457                           Why no kannada movies???      1   \n",
       "108682  Can you bring down the skip intro button to th...      4   \n",
       "\n",
       "        thumbsUpCount  \n",
       "96467              22  \n",
       "96882              11  \n",
       "96945              15  \n",
       "97826              48  \n",
       "98627              88  \n",
       "98987              12  \n",
       "99004              11  \n",
       "99353              55  \n",
       "99954              26  \n",
       "100180             13  \n",
       "100267             19  \n",
       "101381             44  \n",
       "101520             89  \n",
       "101776             27  \n",
       "102795            115  \n",
       "105424             33  \n",
       "106779             45  \n",
       "107685             11  \n",
       "108457             14  \n",
       "108682             25  "
      ]
     },
     "execution_count": 30,
     "metadata": {},
     "output_type": "execute_result"
    }
   ],
   "source": [
    "Data = df[df['thumbsUpCount']>10]\n",
    "Data.tail(20)"
   ]
  },
  {
   "cell_type": "code",
   "execution_count": 36,
   "id": "33926215",
   "metadata": {},
   "outputs": [
    {
     "data": {
      "text/html": [
       "<div>\n",
       "<style scoped>\n",
       "    .dataframe tbody tr th:only-of-type {\n",
       "        vertical-align: middle;\n",
       "    }\n",
       "\n",
       "    .dataframe tbody tr th {\n",
       "        vertical-align: top;\n",
       "    }\n",
       "\n",
       "    .dataframe thead th {\n",
       "        text-align: right;\n",
       "    }\n",
       "</style>\n",
       "<table border=\"1\" class=\"dataframe\">\n",
       "  <thead>\n",
       "    <tr style=\"text-align: right;\">\n",
       "      <th></th>\n",
       "      <th>content</th>\n",
       "      <th>score</th>\n",
       "      <th>thumbsUpCount</th>\n",
       "    </tr>\n",
       "  </thead>\n",
       "  <tbody>\n",
       "    <tr>\n",
       "      <th>0</th>\n",
       "      <td>Hep me</td>\n",
       "      <td>1</td>\n",
       "      <td>0</td>\n",
       "    </tr>\n",
       "    <tr>\n",
       "      <th>1</th>\n",
       "      <td>Good cuality,and good service, thank you</td>\n",
       "      <td>5</td>\n",
       "      <td>0</td>\n",
       "    </tr>\n",
       "    <tr>\n",
       "      <th>2</th>\n",
       "      <td>Nice</td>\n",
       "      <td>5</td>\n",
       "      <td>0</td>\n",
       "    </tr>\n",
       "    <tr>\n",
       "      <th>3</th>\n",
       "      <td>Good</td>\n",
       "      <td>5</td>\n",
       "      <td>0</td>\n",
       "    </tr>\n",
       "    <tr>\n",
       "      <th>4</th>\n",
       "      <td>Its nice app, but their is not game of thrones...</td>\n",
       "      <td>3</td>\n",
       "      <td>0</td>\n",
       "    </tr>\n",
       "    <tr>\n",
       "      <th>...</th>\n",
       "      <td>...</td>\n",
       "      <td>...</td>\n",
       "      <td>...</td>\n",
       "    </tr>\n",
       "    <tr>\n",
       "      <th>108833</th>\n",
       "      <td>i really like it! there are so many movies and...</td>\n",
       "      <td>5</td>\n",
       "      <td>0</td>\n",
       "    </tr>\n",
       "    <tr>\n",
       "      <th>108834</th>\n",
       "      <td>I love Netflix. I always enjoy my time using it.</td>\n",
       "      <td>5</td>\n",
       "      <td>0</td>\n",
       "    </tr>\n",
       "    <tr>\n",
       "      <th>108835</th>\n",
       "      <td>Sound quality is very slow of movies</td>\n",
       "      <td>1</td>\n",
       "      <td>0</td>\n",
       "    </tr>\n",
       "    <tr>\n",
       "      <th>108836</th>\n",
       "      <td>Rate is very expensive.. bcos we see netflix s...</td>\n",
       "      <td>1</td>\n",
       "      <td>0</td>\n",
       "    </tr>\n",
       "    <tr>\n",
       "      <th>108837</th>\n",
       "      <td>this app is awesome for english movies ,series...</td>\n",
       "      <td>4</td>\n",
       "      <td>0</td>\n",
       "    </tr>\n",
       "  </tbody>\n",
       "</table>\n",
       "<p>108837 rows × 3 columns</p>\n",
       "</div>"
      ],
      "text/plain": [
       "                                                  content  score  \\\n",
       "0                                                  Hep me      1   \n",
       "1                Good cuality,and good service, thank you      5   \n",
       "2                                                    Nice      5   \n",
       "3                                                    Good      5   \n",
       "4       Its nice app, but their is not game of thrones...      3   \n",
       "...                                                   ...    ...   \n",
       "108833  i really like it! there are so many movies and...      5   \n",
       "108834   I love Netflix. I always enjoy my time using it.      5   \n",
       "108835               Sound quality is very slow of movies      1   \n",
       "108836  Rate is very expensive.. bcos we see netflix s...      1   \n",
       "108837  this app is awesome for english movies ,series...      4   \n",
       "\n",
       "        thumbsUpCount  \n",
       "0                   0  \n",
       "1                   0  \n",
       "2                   0  \n",
       "3                   0  \n",
       "4                   0  \n",
       "...               ...  \n",
       "108833              0  \n",
       "108834              0  \n",
       "108835              0  \n",
       "108836              0  \n",
       "108837              0  \n",
       "\n",
       "[108837 rows x 3 columns]"
      ]
     },
     "execution_count": 36,
     "metadata": {},
     "output_type": "execute_result"
    }
   ],
   "source": [
    "data= df.copy()\n",
    "data = data.drop(['userName'],axis =1)\n",
    "data"
   ]
  },
  {
   "cell_type": "code",
   "execution_count": 37,
   "id": "7450e175",
   "metadata": {},
   "outputs": [
    {
     "name": "stderr",
     "output_type": "stream",
     "text": [
      "[nltk_data] Downloading package stopwords to\n",
      "[nltk_data]     C:\\Users\\pawan\\AppData\\Roaming\\nltk_data...\n",
      "[nltk_data]   Package stopwords is already up-to-date!\n"
     ]
    }
   ],
   "source": [
    "#stop words\n",
    "nltk.download('stopwords')\n",
    "words = stopwords.words(\"english\")\n",
    "\n",
    "#defining stemmer function\n",
    "stemmer = PorterStemmer()"
   ]
  },
  {
   "cell_type": "code",
   "execution_count": 38,
   "id": "043cc1a7",
   "metadata": {},
   "outputs": [
    {
     "data": {
      "text/html": [
       "<div>\n",
       "<style scoped>\n",
       "    .dataframe tbody tr th:only-of-type {\n",
       "        vertical-align: middle;\n",
       "    }\n",
       "\n",
       "    .dataframe tbody tr th {\n",
       "        vertical-align: top;\n",
       "    }\n",
       "\n",
       "    .dataframe thead th {\n",
       "        text-align: right;\n",
       "    }\n",
       "</style>\n",
       "<table border=\"1\" class=\"dataframe\">\n",
       "  <thead>\n",
       "    <tr style=\"text-align: right;\">\n",
       "      <th></th>\n",
       "      <th>content</th>\n",
       "      <th>score</th>\n",
       "      <th>thumbsUpCount</th>\n",
       "      <th>cleaned</th>\n",
       "    </tr>\n",
       "  </thead>\n",
       "  <tbody>\n",
       "    <tr>\n",
       "      <th>0</th>\n",
       "      <td>hep me</td>\n",
       "      <td>1</td>\n",
       "      <td>0</td>\n",
       "      <td>hep me</td>\n",
       "    </tr>\n",
       "    <tr>\n",
       "      <th>1</th>\n",
       "      <td>good cuality and good service  thank you</td>\n",
       "      <td>5</td>\n",
       "      <td>0</td>\n",
       "      <td>good cualiti and good servic thank you</td>\n",
       "    </tr>\n",
       "    <tr>\n",
       "      <th>2</th>\n",
       "      <td>nice</td>\n",
       "      <td>5</td>\n",
       "      <td>0</td>\n",
       "      <td>nice</td>\n",
       "    </tr>\n",
       "    <tr>\n",
       "      <th>3</th>\n",
       "      <td>good</td>\n",
       "      <td>5</td>\n",
       "      <td>0</td>\n",
       "      <td>good</td>\n",
       "    </tr>\n",
       "    <tr>\n",
       "      <th>4</th>\n",
       "      <td>its nice app  but their is not game of thrones...</td>\n",
       "      <td>3</td>\n",
       "      <td>0</td>\n",
       "      <td>it nice app but their is not game of throne an...</td>\n",
       "    </tr>\n",
       "    <tr>\n",
       "      <th>...</th>\n",
       "      <td>...</td>\n",
       "      <td>...</td>\n",
       "      <td>...</td>\n",
       "      <td>...</td>\n",
       "    </tr>\n",
       "    <tr>\n",
       "      <th>108833</th>\n",
       "      <td>i really like it  there are so many movies and...</td>\n",
       "      <td>5</td>\n",
       "      <td>0</td>\n",
       "      <td>i realli like it there are so mani movi and kd...</td>\n",
       "    </tr>\n",
       "    <tr>\n",
       "      <th>108834</th>\n",
       "      <td>i love netflix  i always enjoy my time using it</td>\n",
       "      <td>5</td>\n",
       "      <td>0</td>\n",
       "      <td>i love netflix i alway enjoy my time use it</td>\n",
       "    </tr>\n",
       "    <tr>\n",
       "      <th>108835</th>\n",
       "      <td>sound quality is very slow of movies</td>\n",
       "      <td>1</td>\n",
       "      <td>0</td>\n",
       "      <td>sound qualiti is veri slow of movi</td>\n",
       "    </tr>\n",
       "    <tr>\n",
       "      <th>108836</th>\n",
       "      <td>rate is very expensive   bcos we see netflix s...</td>\n",
       "      <td>1</td>\n",
       "      <td>0</td>\n",
       "      <td>rate is veri expens bco we see netflix sunday ...</td>\n",
       "    </tr>\n",
       "    <tr>\n",
       "      <th>108837</th>\n",
       "      <td>this app is awesome for english movies  series...</td>\n",
       "      <td>4</td>\n",
       "      <td>0</td>\n",
       "      <td>thi app is awesom for english movi seri and tv...</td>\n",
       "    </tr>\n",
       "  </tbody>\n",
       "</table>\n",
       "<p>108837 rows × 4 columns</p>\n",
       "</div>"
      ],
      "text/plain": [
       "                                                  content  score  \\\n",
       "0                                                  hep me      1   \n",
       "1                good cuality and good service  thank you      5   \n",
       "2                                                    nice      5   \n",
       "3                                                    good      5   \n",
       "4       its nice app  but their is not game of thrones...      3   \n",
       "...                                                   ...    ...   \n",
       "108833  i really like it  there are so many movies and...      5   \n",
       "108834   i love netflix  i always enjoy my time using it       5   \n",
       "108835               sound quality is very slow of movies      1   \n",
       "108836  rate is very expensive   bcos we see netflix s...      1   \n",
       "108837  this app is awesome for english movies  series...      4   \n",
       "\n",
       "        thumbsUpCount                                            cleaned  \n",
       "0                   0                                             hep me  \n",
       "1                   0             good cualiti and good servic thank you  \n",
       "2                   0                                               nice  \n",
       "3                   0                                               good  \n",
       "4                   0  it nice app but their is not game of throne an...  \n",
       "...               ...                                                ...  \n",
       "108833              0  i realli like it there are so mani movi and kd...  \n",
       "108834              0        i love netflix i alway enjoy my time use it  \n",
       "108835              0                 sound qualiti is veri slow of movi  \n",
       "108836              0  rate is veri expens bco we see netflix sunday ...  \n",
       "108837              0  thi app is awesom for english movi seri and tv...  \n",
       "\n",
       "[108837 rows x 4 columns]"
      ]
     },
     "execution_count": 38,
     "metadata": {},
     "output_type": "execute_result"
    }
   ],
   "source": [
    "# Doing all cleaning process using regex, stemmer, stopwords for all data\n",
    "data['content'] = [re.sub(\"[^a-zA-Z]\", \" \",i).lower() for i in data['content']]\n",
    "data['cleaned'] = data['content'].apply(lambda x: \" \".join([stemmer.stem(i) for i in x.lower().split()]))\n",
    "data"
   ]
  },
  {
   "cell_type": "code",
   "execution_count": 39,
   "id": "a8b5ea77",
   "metadata": {},
   "outputs": [],
   "source": [
    "data.to_csv(\"cleaned.csv\")"
   ]
  },
  {
   "cell_type": "code",
   "execution_count": 3,
   "id": "f7398ea3",
   "metadata": {},
   "outputs": [
    {
     "data": {
      "text/html": [
       "<div>\n",
       "<style scoped>\n",
       "    .dataframe tbody tr th:only-of-type {\n",
       "        vertical-align: middle;\n",
       "    }\n",
       "\n",
       "    .dataframe tbody tr th {\n",
       "        vertical-align: top;\n",
       "    }\n",
       "\n",
       "    .dataframe thead th {\n",
       "        text-align: right;\n",
       "    }\n",
       "</style>\n",
       "<table border=\"1\" class=\"dataframe\">\n",
       "  <thead>\n",
       "    <tr style=\"text-align: right;\">\n",
       "      <th></th>\n",
       "      <th>score</th>\n",
       "      <th>cleaned</th>\n",
       "    </tr>\n",
       "  </thead>\n",
       "  <tbody>\n",
       "    <tr>\n",
       "      <th>46366</th>\n",
       "      <td>5</td>\n",
       "      <td>netflix is awesom i love that i can download m...</td>\n",
       "    </tr>\n",
       "    <tr>\n",
       "      <th>49748</th>\n",
       "      <td>3</td>\n",
       "      <td>there is a lag in audio after everi minut or s...</td>\n",
       "    </tr>\n",
       "    <tr>\n",
       "      <th>36252</th>\n",
       "      <td>1</td>\n",
       "      <td>i wish i could get more dub anim i subscrib to...</td>\n",
       "    </tr>\n",
       "    <tr>\n",
       "      <th>71750</th>\n",
       "      <td>4</td>\n",
       "      <td>cool tv show and movi but the episod keep on r...</td>\n",
       "    </tr>\n",
       "    <tr>\n",
       "      <th>48533</th>\n",
       "      <td>4</td>\n",
       "      <td>thi app is great there is no advert but one th...</td>\n",
       "    </tr>\n",
       "    <tr>\n",
       "      <th>...</th>\n",
       "      <td>...</td>\n",
       "      <td>...</td>\n",
       "    </tr>\n",
       "    <tr>\n",
       "      <th>82200</th>\n",
       "      <td>1</td>\n",
       "      <td>i wa sign up and it said that my phone number ...</td>\n",
       "    </tr>\n",
       "    <tr>\n",
       "      <th>89248</th>\n",
       "      <td>3</td>\n",
       "      <td>netflix is not accept payment with rupay debit...</td>\n",
       "    </tr>\n",
       "    <tr>\n",
       "      <th>68343</th>\n",
       "      <td>5</td>\n",
       "      <td>well it is a great app i use it on my phone la...</td>\n",
       "    </tr>\n",
       "    <tr>\n",
       "      <th>107054</th>\n",
       "      <td>5</td>\n",
       "      <td>if u love movi n english movi thi is the best ...</td>\n",
       "    </tr>\n",
       "    <tr>\n",
       "      <th>35113</th>\n",
       "      <td>1</td>\n",
       "      <td>now i need to go to my email everi time and co...</td>\n",
       "    </tr>\n",
       "  </tbody>\n",
       "</table>\n",
       "<p>108837 rows × 2 columns</p>\n",
       "</div>"
      ],
      "text/plain": [
       "        score                                            cleaned\n",
       "46366       5  netflix is awesom i love that i can download m...\n",
       "49748       3  there is a lag in audio after everi minut or s...\n",
       "36252       1  i wish i could get more dub anim i subscrib to...\n",
       "71750       4  cool tv show and movi but the episod keep on r...\n",
       "48533       4  thi app is great there is no advert but one th...\n",
       "...       ...                                                ...\n",
       "82200       1  i wa sign up and it said that my phone number ...\n",
       "89248       3  netflix is not accept payment with rupay debit...\n",
       "68343       5  well it is a great app i use it on my phone la...\n",
       "107054      5  if u love movi n english movi thi is the best ...\n",
       "35113       1  now i need to go to my email everi time and co...\n",
       "\n",
       "[108837 rows x 2 columns]"
      ]
     },
     "execution_count": 3,
     "metadata": {},
     "output_type": "execute_result"
    }
   ],
   "source": [
    "df1 = pd.read_csv('cleaned.csv', encoding = 'latin1', usecols = ['cleaned','score'])\n",
    "df1 = df1.sample(frac =1)\n",
    "df1"
   ]
  },
  {
   "cell_type": "code",
   "execution_count": 4,
   "id": "e8fea746",
   "metadata": {},
   "outputs": [
    {
     "name": "stdout",
     "output_type": "stream",
     "text": [
      "<class 'pandas.core.frame.DataFrame'>\n",
      "Index: 108805 entries, 67108 to 27285\n",
      "Data columns (total 2 columns):\n",
      " #   Column   Non-Null Count   Dtype \n",
      "---  ------   --------------   ----- \n",
      " 0   score    108805 non-null  object\n",
      " 1   cleaned  108805 non-null  object\n",
      "dtypes: object(2)\n",
      "memory usage: 2.5+ MB\n"
     ]
    }
   ],
   "source": [
    "df1['score'] = df1['score'].astype('str')\n",
    "df1['score'] = df1['score'].replace({'2':'1','3':'1','4':'5'})\n",
    "df1 = df1.dropna()\n",
    "df1 = df1.sample(frac =1)\n",
    "df1.info()"
   ]
  },
  {
   "cell_type": "code",
   "execution_count": 5,
   "id": "1edbd08e",
   "metadata": {},
   "outputs": [],
   "source": [
    "# using the Linear regression for the model \n",
    "from sklearn.linear_model import LogisticRegression\n",
    "\n",
    "log_regression = LogisticRegression()\n",
    "\n",
    "vectorizer = TfidfVectorizer()\n",
    "X = df1['cleaned']\n",
    "Y = df1['score']\n",
    "\n",
    "X_train, X_test, y_train, y_test = train_test_split(X, Y, test_size=0.15,random_state = 7) #Splitting dataset\n",
    "\n",
    "\n",
    "# #Creating Pipeline\n",
    "pipeline = Pipeline([('vect', vectorizer),\n",
    "                     ('chi',  SelectKBest(chi2, k=2000)),\n",
    "                     ('clf', LogisticRegression())])\n",
    "\n",
    "\n",
    "# #Training model\n",
    "lr_model = pipeline.fit(X_train, y_train)"
   ]
  },
  {
   "cell_type": "code",
   "execution_count": 6,
   "id": "099859bc",
   "metadata": {},
   "outputs": [
    {
     "name": "stdout",
     "output_type": "stream",
     "text": [
      "0.8642240058819926\n"
     ]
    }
   ],
   "source": [
    "#Accuracy\n",
    "from sklearn.metrics import accuracy_score\n",
    "predict_sentiment = lr_model.predict(X_test)\n",
    "\n",
    "print(accuracy_score(y_test,predict_sentiment))"
   ]
  },
  {
   "cell_type": "code",
   "execution_count": 7,
   "id": "2d1017be",
   "metadata": {},
   "outputs": [
    {
     "data": {
      "image/png": "[encoded data removed]",
      "text/plain": [
       "<Figure size 640x480 with 2 Axes>"
      ]
     },
     "metadata": {},
     "output_type": "display_data"
    },
    {
     "name": "stdout",
     "output_type": "stream",
     "text": [
      "[[8819  853]\n",
      " [1363 5286]]\n"
     ]
    }
   ],
   "source": [
    "#confusion matrix \n",
    "cm=confusion_matrix(y_test,predict_sentiment)\n",
    "class_label = [0, 1]\n",
    "df_cm = pd.DataFrame(cm, index=class_label,columns=class_label)\n",
    "sns.heatmap(df_cm,annot=True,cmap='Set2',linewidths=2,fmt='d')\n",
    "plt.title(\"Confusion Matrix\",fontsize=15)\n",
    "plt.xlabel(\"Predicted\")\n",
    "plt.ylabel(\"True\")\n",
    "plt.show()\n",
    "print(cm)"
   ]
  },
  {
   "cell_type": "code",
   "execution_count": 9,
   "id": "e3d22eec",
   "metadata": {
    "scrolled": true
   },
   "outputs": [
    {
     "name": "stdout",
     "output_type": "stream",
     "text": [
      "              precision    recall  f1-score   support\n",
      "\n",
      "           1       0.87      0.91      0.89      9672\n",
      "           5       0.86      0.80      0.83      6649\n",
      "\n",
      "    accuracy                           0.86     16321\n",
      "   macro avg       0.86      0.85      0.86     16321\n",
      "weighted avg       0.86      0.86      0.86     16321\n",
      "\n"
     ]
    }
   ],
   "source": [
    "from sklearn.metrics import classification_report, confusion_matrix\n",
    "ytest = np.array(y_test)\n",
    "print(classification_report(ytest,lr_model.predict(X_test)))"
   ]
  },
  {
   "cell_type": "code",
   "execution_count": 37,
   "id": "16a95234",
   "metadata": {},
   "outputs": [],
   "source": [
    "# using the SVC for the model \n",
    "from sklearn.svm import SVC\n",
    "\n",
    "svc= SVC()\n",
    "\n",
    "vectorizer = TfidfVectorizer()\n",
    "X = df1['cleaned']\n",
    "Y = df1['score']\n",
    "\n",
    "X_train, X_test, y_train, y_test = train_test_split(X, Y, test_size=0.15,random_state=1) #Splitting dataset\n",
    "\n",
    "\n",
    "# #Creating Pipeline\n",
    "pipeline = Pipeline([('vect', vectorizer),\n",
    "                     ('chi',  SelectKBest(chi2, k=2000)),\n",
    "                     ('clf', SVC(kernel='linear'))])\n",
    "\n",
    "# #Training model\n",
    "svc_model = pipeline.fit(X_train, y_train)"
   ]
  },
  {
   "cell_type": "code",
   "execution_count": 38,
   "id": "58a3bc27",
   "metadata": {},
   "outputs": [
    {
     "name": "stdout",
     "output_type": "stream",
     "text": [
      "0.8687580417866553\n"
     ]
    }
   ],
   "source": [
    "#Accuracy\n",
    "from sklearn.metrics import accuracy_score\n",
    "predict_sentiment = svc_model.predict(X_test)\n",
    "\n",
    "print(accuracy_score(y_test,predict_sentiment))"
   ]
  },
  {
   "cell_type": "code",
   "execution_count": 39,
   "id": "e1afbe44",
   "metadata": {},
   "outputs": [
    {
     "data": {
      "image/png": "[encoded data removed]",
      "text/plain": [
       "<Figure size 640x480 with 2 Axes>"
      ]
     },
     "metadata": {},
     "output_type": "display_data"
    },
    {
     "name": "stdout",
     "output_type": "stream",
     "text": [
      "[[8910  829]\n",
      " [1313 5269]]\n"
     ]
    }
   ],
   "source": [
    "#confusion matrix \n",
    "cm=confusion_matrix(y_test,predict_sentiment)\n",
    "class_label = [0, 1]\n",
    "df_cm = pd.DataFrame(cm, index=class_label,columns=class_label)\n",
    "sns.heatmap(df_cm,annot=True,cmap='Set2',linewidths=2,fmt='d')\n",
    "plt.title(\"Confusion Matrix\",fontsize=15)\n",
    "plt.xlabel(\"Predicted\")\n",
    "plt.ylabel(\"True\")\n",
    "plt.show()\n",
    "print(cm)"
   ]
  },
  {
   "cell_type": "code",
   "execution_count": 8,
   "id": "286028bb",
   "metadata": {},
   "outputs": [],
   "source": [
    "# using the Naive_bayes for the model \n",
    "from sklearn.naive_bayes import MultinomialNB\n",
    "\n",
    "naive_bayes = MultinomialNB()\n",
    "\n",
    "vectorizer = TfidfVectorizer()\n",
    "X = df1['cleaned']\n",
    "Y = df1['score']\n",
    "\n",
    "X_train, X_test, y_train, y_test = train_test_split(X, Y, test_size=0.15,random_state=1) #Splitting dataset\n",
    "\n",
    "\n",
    "# #Creating Pipeline\n",
    "pipeline = Pipeline([('vect', vectorizer),\n",
    "                     ('chi',  SelectKBest(chi2, k=2000)),\n",
    "                     ('clf', MultinomialNB())])\n",
    "\n",
    "# #Training model\n",
    "model = pipeline.fit(X_train, y_train)"
   ]
  },
  {
   "cell_type": "code",
   "execution_count": 19,
   "id": "0ce42317",
   "metadata": {},
   "outputs": [
    {
     "name": "stdout",
     "output_type": "stream",
     "text": [
      "0.8425341584461736\n"
     ]
    }
   ],
   "source": [
    "#Accuracy\n",
    "from sklearn.metrics import accuracy_score\n",
    "predict_sentiment = model.predict(X_test)\n",
    "\n",
    "print(accuracy_score(y_test,predict_sentiment))"
   ]
  },
  {
   "cell_type": "code",
   "execution_count": 20,
   "id": "738c848a",
   "metadata": {},
   "outputs": [
    {
     "data": {
      "image/png": "[encoded data removed]",
      "text/plain": [
       "<Figure size 640x480 with 2 Axes>"
      ]
     },
     "metadata": {},
     "output_type": "display_data"
    },
    {
     "name": "stdout",
     "output_type": "stream",
     "text": [
      "[[8739 1000]\n",
      " [1570 5012]]\n"
     ]
    }
   ],
   "source": [
    "#confusion matrix \n",
    "cm=confusion_matrix(y_test,predict_sentiment)\n",
    "class_label = [0, 1]\n",
    "df_cm = pd.DataFrame(cm, index=class_label,columns=class_label)\n",
    "sns.heatmap(df_cm,annot=True,cmap='Set2',linewidths=2,fmt='d')\n",
    "plt.title(\"Confusion Matrix\",fontsize=15)\n",
    "plt.xlabel(\"Predicted\")\n",
    "plt.ylabel(\"True\")\n",
    "plt.show()\n",
    "print(cm)"
   ]
  },
  {
   "cell_type": "code",
   "execution_count": 21,
   "id": "db320779",
   "metadata": {},
   "outputs": [
    {
     "name": "stdout",
     "output_type": "stream",
     "text": [
      "              precision    recall  f1-score   support\n",
      "\n",
      "           1       0.85      0.90      0.87      9739\n",
      "           5       0.83      0.76      0.80      6582\n",
      "\n",
      "    accuracy                           0.84     16321\n",
      "   macro avg       0.84      0.83      0.83     16321\n",
      "weighted avg       0.84      0.84      0.84     16321\n",
      "\n"
     ]
    }
   ],
   "source": [
    "ytest = np.array(y_test)\n",
    "print(classification_report(ytest,model.predict(X_test)))"
   ]
  },
  {
   "cell_type": "code",
   "execution_count": 29,
   "id": "299b22fa",
   "metadata": {},
   "outputs": [],
   "source": [
    "# using the RandomForestClassifier for the model \n",
    "from sklearn.ensemble import RandomForestClassifier\n",
    "\n",
    "random_forest = RandomForestClassifier()\n",
    "\n",
    "vectorizer = TfidfVectorizer()\n",
    "X = df1['cleaned']\n",
    "Y = df1['score']\n",
    "\n",
    "X_train, X_test, y_train, y_test = train_test_split(X, Y, test_size=0.15,random_state=1) #Splitting dataset\n",
    "\n",
    "\n",
    "# #Creating Pipeline\n",
    "pipeline = Pipeline([('vect', vectorizer),\n",
    "                     ('chi',  SelectKBest(chi2, k=2000)),\n",
    "                     ('clf', RandomForestClassifier(n_estimators=100,max_depth=100, random_state=7))])\n",
    "\n",
    "# #Training model\n",
    "random_forest = pipeline.fit(X_train, y_train)"
   ]
  },
  {
   "cell_type": "code",
   "execution_count": 30,
   "id": "80a2d99e",
   "metadata": {},
   "outputs": [
    {
     "name": "stdout",
     "output_type": "stream",
     "text": [
      "0.8501317321242571\n"
     ]
    }
   ],
   "source": [
    "#Accuracy\n",
    "from sklearn.metrics import accuracy_score\n",
    "predict_sentiment = random_forest.predict(X_test)\n",
    "\n",
    "print(accuracy_score(y_test,predict_sentiment))"
   ]
  },
  {
   "cell_type": "code",
   "execution_count": 31,
   "id": "0c2598e9",
   "metadata": {},
   "outputs": [
    {
     "data": {
      "image/png": "[encoded data removed]",
      "text/plain": [
       "<Figure size 640x480 with 2 Axes>"
      ]
     },
     "metadata": {},
     "output_type": "display_data"
    },
    {
     "name": "stdout",
     "output_type": "stream",
     "text": [
      "[[8811  928]\n",
      " [1518 5064]]\n"
     ]
    }
   ],
   "source": [
    "#confusion matrix \n",
    "cm=confusion_matrix(y_test,predict_sentiment)\n",
    "class_label = [0, 1]\n",
    "df_cm = pd.DataFrame(cm, index=class_label,columns=class_label)\n",
    "sns.heatmap(df_cm,annot=True,cmap='Set2',linewidths=2,fmt='d')\n",
    "plt.title(\"Confusion Matrix\",fontsize=15)\n",
    "plt.xlabel(\"Predicted\")\n",
    "plt.ylabel(\"True\")\n",
    "plt.show()\n",
    "print(cm)"
   ]
  },
  {
   "cell_type": "code",
   "execution_count": 32,
   "id": "912784e2",
   "metadata": {},
   "outputs": [
    {
     "name": "stdout",
     "output_type": "stream",
     "text": [
      "              precision    recall  f1-score   support\n",
      "\n",
      "           1       0.75      0.96      0.84      9739\n",
      "           5       0.89      0.52      0.66      6582\n",
      "\n",
      "    accuracy                           0.78     16321\n",
      "   macro avg       0.82      0.74      0.75     16321\n",
      "weighted avg       0.81      0.78      0.77     16321\n",
      "\n"
     ]
    }
   ],
   "source": [
    "ytest = np.array(y_test)\n",
    "print(classification_report(ytest,model.predict(X_test)))"
   ]
  },
  {
   "cell_type": "code",
   "execution_count": 33,
   "id": "f93484dd",
   "metadata": {},
   "outputs": [],
   "source": [
    "# using the GradientBoostingClassifier for the model \n",
    "from sklearn.ensemble import GradientBoostingClassifier\n",
    "\n",
    "Grad_boost = GradientBoostingClassifier()\n",
    "\n",
    "vectorizer = TfidfVectorizer()\n",
    "X = df1['cleaned']\n",
    "Y = df1['score']\n",
    "\n",
    "X_train, X_test, y_train, y_test = train_test_split(X, Y, test_size=0.15,random_state=1) #Splitting dataset\n",
    "\n",
    "\n",
    "# #Creating Pipeline\n",
    "pipeline = Pipeline([('vect', vectorizer),\n",
    "                     ('chi',  SelectKBest(chi2, k=2000)),\n",
    "                     ('clf', GradientBoostingClassifier(n_estimators=100))])\n",
    "\n",
    "# #Training model\n",
    "Gradient_boosting = pipeline.fit(X_train, y_train)"
   ]
  },
  {
   "cell_type": "code",
   "execution_count": 34,
   "id": "48d92f17",
   "metadata": {},
   "outputs": [
    {
     "name": "stdout",
     "output_type": "stream",
     "text": [
      "0.825010722382207\n"
     ]
    }
   ],
   "source": [
    "#Accuracy\n",
    "from sklearn.metrics import accuracy_score\n",
    "predict_sentiment = Gradient_boosting.predict(X_test)\n",
    "\n",
    "print(accuracy_score(y_test,predict_sentiment))"
   ]
  },
  {
   "cell_type": "code",
   "execution_count": 35,
   "id": "583832be",
   "metadata": {},
   "outputs": [
    {
     "data": {
      "image/png": "[encoded data removed]",
      "text/plain": [
       "<Figure size 640x480 with 2 Axes>"
      ]
     },
     "metadata": {},
     "output_type": "display_data"
    },
    {
     "name": "stdout",
     "output_type": "stream",
     "text": [
      "[[8902  837]\n",
      " [2019 4563]]\n"
     ]
    }
   ],
   "source": [
    "#confusion matrix \n",
    "cm=confusion_matrix(y_test,predict_sentiment)\n",
    "class_label = [0, 1]\n",
    "df_cm = pd.DataFrame(cm, index=class_label,columns=class_label)\n",
    "sns.heatmap(df_cm,annot=True,cmap='Set2',linewidths=2,fmt='d')\n",
    "plt.title(\"Confusion Matrix\",fontsize=15)\n",
    "plt.xlabel(\"Predicted\")\n",
    "plt.ylabel(\"True\")\n",
    "plt.show()\n",
    "print(cm)"
   ]
  },
  {
   "cell_type": "code",
   "execution_count": 36,
   "id": "00f14102",
   "metadata": {},
   "outputs": [
    {
     "name": "stdout",
     "output_type": "stream",
     "text": [
      "              precision    recall  f1-score   support\n",
      "\n",
      "           1       0.75      0.96      0.84      9739\n",
      "           5       0.89      0.52      0.66      6582\n",
      "\n",
      "    accuracy                           0.78     16321\n",
      "   macro avg       0.82      0.74      0.75     16321\n",
      "weighted avg       0.81      0.78      0.77     16321\n",
      "\n"
     ]
    }
   ],
   "source": [
    "ytest = np.array(y_test)\n",
    "print(classification_report(ytest,model.predict(X_test)))"
   ]
  },
  {
   "cell_type": "code",
   "execution_count": 54,
   "id": "91d49c17",
   "metadata": {},
   "outputs": [],
   "source": [
    "import pickle as pk\n",
    "\n",
    "#to save model\n",
    "filename = 'Netflix_review.pickle'\n",
    "pk.dump(lr_model, open(filename, 'wb'))"
   ]
  },
  {
   "cell_type": "code",
   "execution_count": 5,
   "id": "1b9d6f9c",
   "metadata": {},
   "outputs": [],
   "source": [
    "# Load the model\n",
    "filename = 'Netflix_review.pickle'\n",
    "with open(filename, 'rb') as file:\n",
    "    model = pk.load(file)"
   ]
  },
  {
   "cell_type": "code",
   "execution_count": 23,
   "id": "7041a425",
   "metadata": {},
   "outputs": [
    {
     "data": {
      "text/html": [
       "<div>\n",
       "<style scoped>\n",
       "    .dataframe tbody tr th:only-of-type {\n",
       "        vertical-align: middle;\n",
       "    }\n",
       "\n",
       "    .dataframe tbody tr th {\n",
       "        vertical-align: top;\n",
       "    }\n",
       "\n",
       "    .dataframe thead th {\n",
       "        text-align: right;\n",
       "    }\n",
       "</style>\n",
       "<table border=\"1\" class=\"dataframe\">\n",
       "  <thead>\n",
       "    <tr style=\"text-align: right;\">\n",
       "      <th></th>\n",
       "      <th>score</th>\n",
       "      <th>cleaned</th>\n",
       "    </tr>\n",
       "  </thead>\n",
       "  <tbody>\n",
       "    <tr>\n",
       "      <th>6345</th>\n",
       "      <td>5</td>\n",
       "      <td>movi and seri are alright but the anim categor...</td>\n",
       "    </tr>\n",
       "    <tr>\n",
       "      <th>44311</th>\n",
       "      <td>5</td>\n",
       "      <td>netflix is my happi time awesom download featu...</td>\n",
       "    </tr>\n",
       "    <tr>\n",
       "      <th>14187</th>\n",
       "      <td>1</td>\n",
       "      <td>plagu with download issu download multipl thin...</td>\n",
       "    </tr>\n",
       "    <tr>\n",
       "      <th>6385</th>\n",
       "      <td>5</td>\n",
       "      <td>don t get me wrong i love thi app i love the v...</td>\n",
       "    </tr>\n",
       "    <tr>\n",
       "      <th>37260</th>\n",
       "      <td>1</td>\n",
       "      <td>app doesn t work i instal again and again it s...</td>\n",
       "    </tr>\n",
       "    <tr>\n",
       "      <th>6784</th>\n",
       "      <td>1</td>\n",
       "      <td>i mainli use thi app on a tcl tablet and it wo...</td>\n",
       "    </tr>\n",
       "    <tr>\n",
       "      <th>56973</th>\n",
       "      <td>1</td>\n",
       "      <td>i can t open the app despit restart the devic ...</td>\n",
       "    </tr>\n",
       "    <tr>\n",
       "      <th>106830</th>\n",
       "      <td>1</td>\n",
       "      <td>hdr not show on hdr support pc and mobil devic</td>\n",
       "    </tr>\n",
       "    <tr>\n",
       "      <th>23568</th>\n",
       "      <td>1</td>\n",
       "      <td>after recent updat on my applic is not work an...</td>\n",
       "    </tr>\n",
       "    <tr>\n",
       "      <th>43734</th>\n",
       "      <td>1</td>\n",
       "      <td>it lag in new devic work good in android</td>\n",
       "    </tr>\n",
       "    <tr>\n",
       "      <th>3704</th>\n",
       "      <td>1</td>\n",
       "      <td>i can t open mine they like sorri we couldn t ...</td>\n",
       "    </tr>\n",
       "    <tr>\n",
       "      <th>78342</th>\n",
       "      <td>5</td>\n",
       "      <td>thi is my primari stream platform i enjoy a lo...</td>\n",
       "    </tr>\n",
       "    <tr>\n",
       "      <th>95309</th>\n",
       "      <td>1</td>\n",
       "      <td>doesnt work cant even log in befor app quit it...</td>\n",
       "    </tr>\n",
       "    <tr>\n",
       "      <th>55830</th>\n",
       "      <td>1</td>\n",
       "      <td>sir am face a lot of problem while pay through...</td>\n",
       "    </tr>\n",
       "    <tr>\n",
       "      <th>108178</th>\n",
       "      <td>5</td>\n",
       "      <td>good app i love the show on my block i can wat...</td>\n",
       "    </tr>\n",
       "    <tr>\n",
       "      <th>98719</th>\n",
       "      <td>1</td>\n",
       "      <td>i alreadi cancel my membership but they still ...</td>\n",
       "    </tr>\n",
       "    <tr>\n",
       "      <th>108344</th>\n",
       "      <td>1</td>\n",
       "      <td>way to expens</td>\n",
       "    </tr>\n",
       "    <tr>\n",
       "      <th>13212</th>\n",
       "      <td>1</td>\n",
       "      <td>app is not open it stuck at logo</td>\n",
       "    </tr>\n",
       "    <tr>\n",
       "      <th>29541</th>\n",
       "      <td>1</td>\n",
       "      <td>i ve had netflix for a year and it work just f...</td>\n",
       "    </tr>\n",
       "  </tbody>\n",
       "</table>\n",
       "</div>"
      ],
      "text/plain": [
       "       score                                            cleaned\n",
       "6345       5  movi and seri are alright but the anim categor...\n",
       "44311      5  netflix is my happi time awesom download featu...\n",
       "14187      1  plagu with download issu download multipl thin...\n",
       "6385       5  don t get me wrong i love thi app i love the v...\n",
       "37260      1  app doesn t work i instal again and again it s...\n",
       "6784       1  i mainli use thi app on a tcl tablet and it wo...\n",
       "56973      1  i can t open the app despit restart the devic ...\n",
       "106830     1     hdr not show on hdr support pc and mobil devic\n",
       "23568      1  after recent updat on my applic is not work an...\n",
       "43734      1           it lag in new devic work good in android\n",
       "3704       1  i can t open mine they like sorri we couldn t ...\n",
       "78342      5  thi is my primari stream platform i enjoy a lo...\n",
       "95309      1  doesnt work cant even log in befor app quit it...\n",
       "55830      1  sir am face a lot of problem while pay through...\n",
       "108178     5  good app i love the show on my block i can wat...\n",
       "98719      1  i alreadi cancel my membership but they still ...\n",
       "108344     1                                      way to expens\n",
       "13212      1                   app is not open it stuck at logo\n",
       "29541      1  i ve had netflix for a year and it work just f..."
      ]
     },
     "execution_count": 23,
     "metadata": {},
     "output_type": "execute_result"
    }
   ],
   "source": [
    "#Accuracy\n",
    "from sklearn.metrics import accuracy_score\n",
    "\n",
    "df2 = df1.iloc[1:20]\n",
    "df2"
   ]
  },
  {
   "cell_type": "code",
   "execution_count": 25,
   "id": "9cc10901",
   "metadata": {},
   "outputs": [],
   "source": [
    "p_test = df2['cleaned']"
   ]
  },
  {
   "cell_type": "code",
   "execution_count": 49,
   "id": "1035971d",
   "metadata": {},
   "outputs": [
    {
     "name": "stdout",
     "output_type": "stream",
     "text": [
      "5\n"
     ]
    }
   ],
   "source": [
    "\n",
    "result = model.predict([\"\"\"movi and seri are alright but the anim categori is realli dri i know they re work on it but we d realli love to see a larger anim catalog also thi is a recommend featur it would be great if you could share movi across your devic if your amount support multipl devic for instanc i download a movi on my phone but i want to watch it on my tablet instead of redownload just share the movi to the tab don t know if it s possibl but if would be a realli nice featur\n",
    "\"\"\"])\n",
    "print(result[0])"
   ]
  },
  {
   "cell_type": "code",
   "execution_count": 50,
   "id": "7933fde3",
   "metadata": {},
   "outputs": [
    {
     "name": "stdout",
     "output_type": "stream",
     "text": [
      "movi and seri are alright but the anim categori is realli dri i know they re work on it but we d realli love to see a larger anim catalog also thi is a recommend featur it would be great if you could share movi across your devic if your amount support multipl devic for instanc i download a movi on my phone but i want to watch it on my tablet instead of redownload just share the movi to the tab don t know if it s possibl but if would be a realli nice featur\n",
      "['5']\n",
      "Positive Review\n"
     ]
    }
   ],
   "source": [
    "comment = input()\n",
    "\n",
    "df = pd.DataFrame({'cleaned':[comment]})\n",
    "        \n",
    "output = model.predict(df['cleaned'])\n",
    "\n",
    "print(output)\n",
    "if output == '5':\n",
    "    print(\"Positive Review\")\n",
    "else:\n",
    "    print(\"Negative Review\")"
   ]
  },
  {
   "cell_type": "code",
   "execution_count": null,
   "id": "b438199f",
   "metadata": {},
   "outputs": [],
   "source": []
  }
 ],
 "metadata": {
  "kernelspec": {
   "display_name": "Python 3 (ipykernel)",
   "language": "python",
   "name": "python3"
  },
  "language_info": {
   "codemirror_mode": {
    "name": "ipython",
    "version": 3
   },
   "file_extension": ".py",
   "mimetype": "text/x-python",
   "name": "python",
   "nbconvert_exporter": "python",
   "pygments_lexer": "ipython3",
   "version": "3.11.7"
  }
 },
 "nbformat": 4,
 "nbformat_minor": 5
}
